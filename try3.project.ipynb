{
 "cells": [
  {
   "cell_type": "code",
   "execution_count": 193,
   "metadata": {},
   "outputs": [],
   "source": [
    "import numpy as np\n",
    "import pandas as pd\n",
    "import matplotlib.pyplot as plt\n",
    "import seaborn as sns\n",
    "\n",
    "from catboost import CatBoostClassifier\n",
    "from sklearn.model_selection import train_test_split\n",
    "from catboost import Pool\n",
    "from sklearn.metrics import log_loss\n",
    "from sklearn.metrics import accuracy_score"
   ]
  },
  {
   "cell_type": "code",
   "execution_count": 194,
   "metadata": {},
   "outputs": [
    {
     "data": {
      "text/html": [
       "<div>\n",
       "<style scoped>\n",
       "    .dataframe tbody tr th:only-of-type {\n",
       "        vertical-align: middle;\n",
       "    }\n",
       "\n",
       "    .dataframe tbody tr th {\n",
       "        vertical-align: top;\n",
       "    }\n",
       "\n",
       "    .dataframe thead th {\n",
       "        text-align: right;\n",
       "    }\n",
       "</style>\n",
       "<table border=\"1\" class=\"dataframe\">\n",
       "  <thead>\n",
       "    <tr style=\"text-align: right;\">\n",
       "      <th></th>\n",
       "      <th>index</th>\n",
       "      <th>gender</th>\n",
       "      <th>car</th>\n",
       "      <th>reality</th>\n",
       "      <th>child_num</th>\n",
       "      <th>income_total</th>\n",
       "      <th>income_type</th>\n",
       "      <th>edu_type</th>\n",
       "      <th>family_type</th>\n",
       "      <th>house_type</th>\n",
       "      <th>DAYS_BIRTH</th>\n",
       "      <th>DAYS_EMPLOYED</th>\n",
       "      <th>FLAG_MOBIL</th>\n",
       "      <th>work_phone</th>\n",
       "      <th>phone</th>\n",
       "      <th>email</th>\n",
       "      <th>occyp_type</th>\n",
       "      <th>family_size</th>\n",
       "      <th>begin_month</th>\n",
       "      <th>credit</th>\n",
       "    </tr>\n",
       "  </thead>\n",
       "  <tbody>\n",
       "    <tr>\n",
       "      <th>0</th>\n",
       "      <td>0</td>\n",
       "      <td>F</td>\n",
       "      <td>N</td>\n",
       "      <td>N</td>\n",
       "      <td>0</td>\n",
       "      <td>202500.0</td>\n",
       "      <td>Commercial associate</td>\n",
       "      <td>Higher education</td>\n",
       "      <td>Married</td>\n",
       "      <td>Municipal apartment</td>\n",
       "      <td>-13899</td>\n",
       "      <td>-4709</td>\n",
       "      <td>1</td>\n",
       "      <td>0</td>\n",
       "      <td>0</td>\n",
       "      <td>0</td>\n",
       "      <td>NaN</td>\n",
       "      <td>2.0</td>\n",
       "      <td>-6.0</td>\n",
       "      <td>1.0</td>\n",
       "    </tr>\n",
       "    <tr>\n",
       "      <th>1</th>\n",
       "      <td>1</td>\n",
       "      <td>F</td>\n",
       "      <td>N</td>\n",
       "      <td>Y</td>\n",
       "      <td>1</td>\n",
       "      <td>247500.0</td>\n",
       "      <td>Commercial associate</td>\n",
       "      <td>Secondary / secondary special</td>\n",
       "      <td>Civil marriage</td>\n",
       "      <td>House / apartment</td>\n",
       "      <td>-11380</td>\n",
       "      <td>-1540</td>\n",
       "      <td>1</td>\n",
       "      <td>0</td>\n",
       "      <td>0</td>\n",
       "      <td>1</td>\n",
       "      <td>Laborers</td>\n",
       "      <td>3.0</td>\n",
       "      <td>-5.0</td>\n",
       "      <td>1.0</td>\n",
       "    </tr>\n",
       "    <tr>\n",
       "      <th>2</th>\n",
       "      <td>2</td>\n",
       "      <td>M</td>\n",
       "      <td>Y</td>\n",
       "      <td>Y</td>\n",
       "      <td>0</td>\n",
       "      <td>450000.0</td>\n",
       "      <td>Working</td>\n",
       "      <td>Higher education</td>\n",
       "      <td>Married</td>\n",
       "      <td>House / apartment</td>\n",
       "      <td>-19087</td>\n",
       "      <td>-4434</td>\n",
       "      <td>1</td>\n",
       "      <td>0</td>\n",
       "      <td>1</td>\n",
       "      <td>0</td>\n",
       "      <td>Managers</td>\n",
       "      <td>2.0</td>\n",
       "      <td>-22.0</td>\n",
       "      <td>2.0</td>\n",
       "    </tr>\n",
       "    <tr>\n",
       "      <th>3</th>\n",
       "      <td>3</td>\n",
       "      <td>F</td>\n",
       "      <td>N</td>\n",
       "      <td>Y</td>\n",
       "      <td>0</td>\n",
       "      <td>202500.0</td>\n",
       "      <td>Commercial associate</td>\n",
       "      <td>Secondary / secondary special</td>\n",
       "      <td>Married</td>\n",
       "      <td>House / apartment</td>\n",
       "      <td>-15088</td>\n",
       "      <td>-2092</td>\n",
       "      <td>1</td>\n",
       "      <td>0</td>\n",
       "      <td>1</td>\n",
       "      <td>0</td>\n",
       "      <td>Sales staff</td>\n",
       "      <td>2.0</td>\n",
       "      <td>-37.0</td>\n",
       "      <td>0.0</td>\n",
       "    </tr>\n",
       "    <tr>\n",
       "      <th>4</th>\n",
       "      <td>4</td>\n",
       "      <td>F</td>\n",
       "      <td>Y</td>\n",
       "      <td>Y</td>\n",
       "      <td>0</td>\n",
       "      <td>157500.0</td>\n",
       "      <td>State servant</td>\n",
       "      <td>Higher education</td>\n",
       "      <td>Married</td>\n",
       "      <td>House / apartment</td>\n",
       "      <td>-15037</td>\n",
       "      <td>-2105</td>\n",
       "      <td>1</td>\n",
       "      <td>0</td>\n",
       "      <td>0</td>\n",
       "      <td>0</td>\n",
       "      <td>Managers</td>\n",
       "      <td>2.0</td>\n",
       "      <td>-26.0</td>\n",
       "      <td>2.0</td>\n",
       "    </tr>\n",
       "  </tbody>\n",
       "</table>\n",
       "</div>"
      ],
      "text/plain": [
       "   index gender car reality  child_num  income_total           income_type  \\\n",
       "0      0      F   N       N          0      202500.0  Commercial associate   \n",
       "1      1      F   N       Y          1      247500.0  Commercial associate   \n",
       "2      2      M   Y       Y          0      450000.0               Working   \n",
       "3      3      F   N       Y          0      202500.0  Commercial associate   \n",
       "4      4      F   Y       Y          0      157500.0         State servant   \n",
       "\n",
       "                        edu_type     family_type           house_type  \\\n",
       "0               Higher education         Married  Municipal apartment   \n",
       "1  Secondary / secondary special  Civil marriage    House / apartment   \n",
       "2               Higher education         Married    House / apartment   \n",
       "3  Secondary / secondary special         Married    House / apartment   \n",
       "4               Higher education         Married    House / apartment   \n",
       "\n",
       "   DAYS_BIRTH  DAYS_EMPLOYED  FLAG_MOBIL  work_phone  phone  email  \\\n",
       "0      -13899          -4709           1           0      0      0   \n",
       "1      -11380          -1540           1           0      0      1   \n",
       "2      -19087          -4434           1           0      1      0   \n",
       "3      -15088          -2092           1           0      1      0   \n",
       "4      -15037          -2105           1           0      0      0   \n",
       "\n",
       "    occyp_type  family_size  begin_month  credit  \n",
       "0          NaN          2.0         -6.0     1.0  \n",
       "1     Laborers          3.0         -5.0     1.0  \n",
       "2     Managers          2.0        -22.0     2.0  \n",
       "3  Sales staff          2.0        -37.0     0.0  \n",
       "4     Managers          2.0        -26.0     2.0  "
      ]
     },
     "execution_count": 194,
     "metadata": {},
     "output_type": "execute_result"
    }
   ],
   "source": [
    "train = pd.read_csv('open/train.csv')\n",
    "test = pd.read_csv('open/test.csv')\n",
    "train.head()"
   ]
  },
  {
   "cell_type": "code",
   "execution_count": 175,
   "metadata": {},
   "outputs": [
    {
     "name": "stdout",
     "output_type": "stream",
     "text": [
      "<class 'pandas.core.frame.DataFrame'>\n",
      "RangeIndex: 26457 entries, 0 to 26456\n",
      "Data columns (total 20 columns):\n",
      " #   Column         Non-Null Count  Dtype  \n",
      "---  ------         --------------  -----  \n",
      " 0   index          26457 non-null  int64  \n",
      " 1   gender         26457 non-null  object \n",
      " 2   car            26457 non-null  object \n",
      " 3   reality        26457 non-null  object \n",
      " 4   child_num      26457 non-null  int64  \n",
      " 5   income_total   26457 non-null  float64\n",
      " 6   income_type    26457 non-null  object \n",
      " 7   edu_type       26457 non-null  object \n",
      " 8   family_type    26457 non-null  object \n",
      " 9   house_type     26457 non-null  object \n",
      " 10  DAYS_BIRTH     26457 non-null  int64  \n",
      " 11  DAYS_EMPLOYED  26457 non-null  int64  \n",
      " 12  FLAG_MOBIL     26457 non-null  int64  \n",
      " 13  work_phone     26457 non-null  int64  \n",
      " 14  phone          26457 non-null  int64  \n",
      " 15  email          26457 non-null  int64  \n",
      " 16  occyp_type     18286 non-null  object \n",
      " 17  family_size    26457 non-null  float64\n",
      " 18  begin_month    26457 non-null  float64\n",
      " 19  credit         26457 non-null  float64\n",
      "dtypes: float64(4), int64(8), object(8)\n",
      "memory usage: 4.0+ MB\n"
     ]
    }
   ],
   "source": [
    "train.info()"
   ]
  },
  {
   "cell_type": "code",
   "execution_count": 195,
   "metadata": {},
   "outputs": [
    {
     "name": "stdout",
     "output_type": "stream",
     "text": [
      "null 개수:  0\n"
     ]
    }
   ],
   "source": [
    "# occyp_type 빈 공간 N으로 일단 채우기\n",
    "train['occyp_type'].fillna(\"N\", inplace=True)\n",
    "test['occyp_type'].fillna(\"N\", inplace=True)\n",
    "print('null 개수: ', train.isnull().sum().sum())"
   ]
  },
  {
   "cell_type": "code",
   "execution_count": null,
   "metadata": {},
   "outputs": [],
   "source": []
  },
  {
   "cell_type": "markdown",
   "metadata": {},
   "source": [
    "# 종속변수(credit)"
   ]
  },
  {
   "cell_type": "code",
   "execution_count": 177,
   "metadata": {},
   "outputs": [
    {
     "data": {
      "image/png": "[encoded data removed]",
      "text/plain": [
       "<Figure size 432x288 with 1 Axes>"
      ]
     },
     "metadata": {
      "needs_background": "light"
     },
     "output_type": "display_data"
    }
   ],
   "source": [
    "train['credit'].value_counts().plot(kind = 'bar')\n",
    "plt.show()"
   ]
  },
  {
   "cell_type": "code",
   "execution_count": null,
   "metadata": {},
   "outputs": [],
   "source": []
  },
  {
   "cell_type": "markdown",
   "metadata": {},
   "source": [
    "# 수치형 변수"
   ]
  },
  {
   "cell_type": "code",
   "execution_count": 178,
   "metadata": {
    "scrolled": false
   },
   "outputs": [
    {
     "data": {
      "text/plain": [
       "<matplotlib.axes._subplots.AxesSubplot at 0x152f3c97550>"
      ]
     },
     "execution_count": 178,
     "metadata": {},
     "output_type": "execute_result"
    },
    {
     "data": {
      "image/png": "[encoded data removed]",
      "text/plain": [
       "<Figure size 1080x1080 with 12 Axes>"
      ]
     },
     "metadata": {
      "needs_background": "light"
     },
     "output_type": "display_data"
    }
   ],
   "source": [
    "fig, axes = plt.subplots(4,3, figsize = (15,15))\n",
    "sns.countplot(ax = axes[0,0], x = train['child_num'], order = train['child_num'].value_counts().index)\n",
    "sns.distplot(train['income_total'], ax = axes[0,1])\n",
    "sns.distplot(-train['DAYS_BIRTH'], ax = axes[0,2])\n",
    "sns.distplot(-train['DAYS_EMPLOYED'], ax = axes[1,0])\n",
    "sns.countplot(ax = axes[1,1], x = train['FLAG_MOBIL'], order = train['FLAG_MOBIL'].value_counts().index)\n",
    "sns.countplot(ax = axes[1,2], x = train['work_phone'], order = train['work_phone'].value_counts().index)\n",
    "sns.countplot(ax = axes[2,0], x = train['phone'], order = train['phone'].value_counts().index)\n",
    "sns.countplot(ax = axes[2,1], x = train['email'], order = train['email'].value_counts().index)\n",
    "sns.countplot(ax = axes[2,2], x = train['family_size'], order = train['family_size'].value_counts().index)\n",
    "sns.distplot(-train['begin_month'], ax = axes[3,0])"
   ]
  },
  {
   "cell_type": "code",
   "execution_count": 196,
   "metadata": {},
   "outputs": [],
   "source": [
    "# flag 모든 값이 동일\n",
    "train.drop(['FLAG_MOBIL'], axis=1, inplace=True)"
   ]
  },
  {
   "cell_type": "code",
   "execution_count": 197,
   "metadata": {},
   "outputs": [
    {
     "name": "stdout",
     "output_type": "stream",
     "text": [
      "EMPLOYED 양수 데이터 개수:\n",
      "365243    4438\n",
      "Name: DAYS_EMPLOYED, dtype: int64 \n",
      "\n"
     ]
    }
   ],
   "source": [
    "# DAYS_EMPLOYED 가 양수인 데이터들이 있다. = 같은날.\n",
    "print('EMPLOYED 양수 데이터 개수:')\n",
    "print(train['DAYS_EMPLOYED'][train['DAYS_EMPLOYED'] > 0].value_counts(), '\\n')\n",
    "\n",
    "# 값 0으로 바꾸기\n",
    "train['DAYS_EMPLOYED'] = train['DAYS_EMPLOYED'].map(lambda x: 0 if x > 0 else x)"
   ]
  },
  {
   "cell_type": "code",
   "execution_count": 198,
   "metadata": {},
   "outputs": [],
   "source": [
    "# 만 나이\n",
    "train.DAYS_BIRTH = round(train.DAYS_BIRTH*(-1)/365,1)\n",
    "\n",
    "# 근무 개월\n",
    "train.DAYS_EMPLOYED = round(train.DAYS_EMPLOYED*(-1)/30,1)\n",
    "\n",
    "# begin_month\n",
    "train['begin_month'] = np.abs(train['begin_month'])"
   ]
  },
  {
   "cell_type": "code",
   "execution_count": 199,
   "metadata": {},
   "outputs": [],
   "source": [
    "# child_num, family_size 이상치 제거\n",
    "train = train[train['family_size'] <= 7]\n",
    "train = train.reset_index(drop = True)"
   ]
  },
  {
   "cell_type": "code",
   "execution_count": 200,
   "metadata": {},
   "outputs": [],
   "source": [
    "# 중복된 값들이 많아서 날리기\n",
    "train = train.drop_duplicates()"
   ]
  },
  {
   "cell_type": "code",
   "execution_count": null,
   "metadata": {},
   "outputs": [],
   "source": []
  },
  {
   "cell_type": "markdown",
   "metadata": {},
   "source": [
    "## family_size = child_num + (family_type) 라고 추론"
   ]
  },
  {
   "cell_type": "code",
   "execution_count": 184,
   "metadata": {
    "scrolled": true
   },
   "outputs": [
    {
     "name": "stdout",
     "output_type": "stream",
     "text": [
      "3\n",
      "1\n",
      "18\n",
      "0\n",
      "0\n"
     ]
    },
    {
     "name": "stderr",
     "output_type": "stream",
     "text": [
      "<ipython-input-184-500bb11f2cba>:3: UserWarning: Boolean Series key will be reindexed to match DataFrame index.\n",
      "  print(len(family[family['family_type'] == 'Married'][family['child_num'] + 2 != family['family_size']]))\n",
      "<ipython-input-184-500bb11f2cba>:4: UserWarning: Boolean Series key will be reindexed to match DataFrame index.\n",
      "  print(len(family[family['family_type'] == 'Civil marriage'][family['child_num'] + 2 != family['family_size']]))\n",
      "<ipython-input-184-500bb11f2cba>:5: UserWarning: Boolean Series key will be reindexed to match DataFrame index.\n",
      "  print(len(family[family['family_type'] == 'Single / not married'][family['child_num'] + 1 != family['family_size']]))\n",
      "<ipython-input-184-500bb11f2cba>:6: UserWarning: Boolean Series key will be reindexed to match DataFrame index.\n",
      "  print(len(family[family['family_type'] == 'Separated'][family['child_num'] + 1 != family['family_size']]))\n",
      "<ipython-input-184-500bb11f2cba>:7: UserWarning: Boolean Series key will be reindexed to match DataFrame index.\n",
      "  print(len(family[family['family_type'] == 'Widow'][family['child_num'] + 1 != family['family_size']]))\n"
     ]
    }
   ],
   "source": [
    "family = train[['child_num', 'family_type', 'family_size', 'credit']]\n",
    "\n",
    "print(len(family[family['family_type'] == 'Married'][family['child_num'] + 2 != family['family_size']]))\n",
    "print(len(family[family['family_type'] == 'Civil marriage'][family['child_num'] + 2 != family['family_size']]))\n",
    "print(len(family[family['family_type'] == 'Single / not married'][family['child_num'] + 1 != family['family_size']]))\n",
    "print(len(family[family['family_type'] == 'Separated'][family['child_num'] + 1 != family['family_size']]))\n",
    "print(len(family[family['family_type'] == 'Widow'][family['child_num'] + 1 != family['family_size']]))"
   ]
  },
  {
   "cell_type": "code",
   "execution_count": 185,
   "metadata": {},
   "outputs": [
    {
     "data": {
      "text/plain": [
       "array(['Married', 'Civil marriage', 'Separated', 'Single / not married',\n",
       "       'Widow'], dtype=object)"
      ]
     },
     "execution_count": 185,
     "metadata": {},
     "output_type": "execute_result"
    }
   ],
   "source": [
    "train['family_type'].unique()"
   ]
  },
  {
   "cell_type": "code",
   "execution_count": null,
   "metadata": {},
   "outputs": [],
   "source": []
  },
  {
   "cell_type": "code",
   "execution_count": null,
   "metadata": {},
   "outputs": [],
   "source": []
  },
  {
   "cell_type": "code",
   "execution_count": 186,
   "metadata": {
    "scrolled": true
   },
   "outputs": [
    {
     "name": "stdout",
     "output_type": "stream",
     "text": [
      "family size =  1\n",
      "\tfamily type =  Married  일 때 :  2.0\n",
      "\tfamily type =  Civil marriage  일 때 :  2.0\n",
      "\tfamily type =  Separated  일 때 :  1.5373406193078325\n",
      "\tfamily type =  Single / not married  일 때 :  1.4958011420893518\n",
      "\tfamily type =  Widow  일 때 :  1.496116504854369\n",
      "family size =  2\n",
      "\tfamily type =  Married  일 때 :  1.5305207981061888\n",
      "\tfamily type =  Civil marriage  일 때 :  1.493915533285612\n",
      "\tfamily type =  Separated  일 때 :  1.4782608695652173\n",
      "\tfamily type =  Single / not married  일 때 :  1.5267857142857142\n",
      "\tfamily type =  Widow  일 때 :  1.6153846153846154\n",
      "family size =  3\n",
      "\tfamily type =  Married  일 때 :  1.5148213833291106\n",
      "\tfamily type =  Civil marriage  일 때 :  1.4085257548845471\n",
      "\tfamily type =  Separated  일 때 :  1.4918032786885247\n",
      "\tfamily type =  Single / not married  일 때 :  1.5714285714285714\n",
      "\tfamily type =  Widow  일 때 :  1.0\n",
      "family size =  4\n",
      "\tfamily type =  Married  일 때 :  1.5471066475370636\n",
      "\tfamily type =  Civil marriage  일 때 :  1.5675675675675675\n",
      "\tfamily type =  Separated  일 때 :  1.5\n",
      "\tfamily type =  Single / not married  일 때 :  1.5\n",
      "\tfamily type =  Widow  일 때 :  1.3333333333333333\n",
      "family size =  5\n",
      "\tfamily type =  Married  일 때 :  1.5787545787545787\n",
      "\tfamily type =  Civil marriage  일 때 :  1.2142857142857142\n",
      "\tfamily type =  Separated  일 때 :  1.5\n",
      "family size =  6\n",
      "\tfamily type =  Married  일 때 :  1.3953488372093024\n",
      "\tfamily type =  Separated  일 때 :  2.0\n",
      "family size =  7\n",
      "\tfamily type =  Married  일 때 :  0.8888888888888888\n"
     ]
    }
   ],
   "source": [
    "family = train[['child_num', 'family_type', 'family_size', 'credit']]\n",
    "family_type = train['family_type'].unique()\n",
    "\n",
    "for i in range(1,8):\n",
    "    print('family size = ', i)\n",
    "    f = family[family['family_size'] == i]\n",
    "    for j in family_type:\n",
    "        ff = f[f['family_type'] == j]\n",
    "        if (not(ff.empty)):\n",
    "            print('\\tfamily type = ', j, ' 일 때 : ', ff['credit'].mean())\n",
    "    "
   ]
  },
  {
   "cell_type": "code",
   "execution_count": 187,
   "metadata": {
    "scrolled": true
   },
   "outputs": [
    {
     "data": {
      "image/png": "[encoded data removed]",
      "text/plain": [
       "<Figure size 576x144 with 1 Axes>"
      ]
     },
     "metadata": {
      "needs_background": "light"
     },
     "output_type": "display_data"
    },
    {
     "data": {
      "image/png": "[encoded data removed]",
      "text/plain": [
       "<Figure size 576x144 with 1 Axes>"
      ]
     },
     "metadata": {
      "needs_background": "light"
     },
     "output_type": "display_data"
    },
    {
     "data": {
      "image/png": "[encoded data removed]",
      "text/plain": [
       "<Figure size 576x144 with 1 Axes>"
      ]
     },
     "metadata": {
      "needs_background": "light"
     },
     "output_type": "display_data"
    },
    {
     "data": {
      "image/png": "[encoded data removed]",
      "text/plain": [
       "<Figure size 576x144 with 1 Axes>"
      ]
     },
     "metadata": {
      "needs_background": "light"
     },
     "output_type": "display_data"
    },
    {
     "data": {
      "image/png": "[encoded data removed]",
      "text/plain": [
       "<Figure size 576x144 with 1 Axes>"
      ]
     },
     "metadata": {
      "needs_background": "light"
     },
     "output_type": "display_data"
    },
    {
     "data": {
      "image/png": "[encoded data removed]",
      "text/plain": [
       "<Figure size 576x144 with 1 Axes>"
      ]
     },
     "metadata": {
      "needs_background": "light"
     },
     "output_type": "display_data"
    },
    {
     "data": {
      "image/png": "[encoded data removed]",
      "text/plain": [
       "<Figure size 576x144 with 1 Axes>"
      ]
     },
     "metadata": {
      "needs_background": "light"
     },
     "output_type": "display_data"
    }
   ],
   "source": [
    "for i in range(1,8):\n",
    "    f = family[family['family_size'] == i]\n",
    "    m = []\n",
    "    for j in family_type:\n",
    "        ff = f[f['family_type'] == j]\n",
    "        m.append(ff['credit'].mean())\n",
    "        \n",
    "    plt.figure(figsize = (8,2))\n",
    "    plt.bar(family_type, m)"
   ]
  },
  {
   "cell_type": "code",
   "execution_count": null,
   "metadata": {},
   "outputs": [],
   "source": []
  },
  {
   "cell_type": "code",
   "execution_count": 201,
   "metadata": {},
   "outputs": [
    {
     "name": "stdout",
     "output_type": "stream",
     "text": [
      "<class 'pandas.core.frame.DataFrame'>\n",
      "Int64Index: 26451 entries, 0 to 26450\n",
      "Data columns (total 19 columns):\n",
      " #   Column         Non-Null Count  Dtype \n",
      "---  ------         --------------  ----- \n",
      " 0   index          26451 non-null  int64 \n",
      " 1   gender         26451 non-null  object\n",
      " 2   car            26451 non-null  object\n",
      " 3   reality        26451 non-null  object\n",
      " 4   child_num      26451 non-null  int64 \n",
      " 5   income_total   26451 non-null  int32 \n",
      " 6   income_type    26451 non-null  object\n",
      " 7   edu_type       26451 non-null  object\n",
      " 8   family_type    26451 non-null  object\n",
      " 9   house_type     26451 non-null  object\n",
      " 10  DAYS_BIRTH     26451 non-null  int32 \n",
      " 11  DAYS_EMPLOYED  26451 non-null  int32 \n",
      " 12  work_phone     26451 non-null  object\n",
      " 13  phone          26451 non-null  object\n",
      " 14  email          26451 non-null  object\n",
      " 15  occyp_type     26451 non-null  object\n",
      " 16  family_size    26451 non-null  int32 \n",
      " 17  begin_month    26451 non-null  int32 \n",
      " 18  credit         26451 non-null  int32 \n",
      "dtypes: int32(6), int64(2), object(11)\n",
      "memory usage: 3.4+ MB\n"
     ]
    }
   ],
   "source": [
    "# float to int\n",
    "toint_cols = ['income_total', 'DAYS_BIRTH', 'DAYS_EMPLOYED', 'family_size', 'begin_month', 'credit']\n",
    "train[toint_cols] = train[toint_cols].astype(int)\n",
    "\n",
    "# int to object\n",
    "toobj_cols = ['gender', 'car', 'reality', 'work_phone', 'phone', 'email']\n",
    "train[toobj_cols] = train[toobj_cols].astype(object)\n",
    "train.info()"
   ]
  },
  {
   "cell_type": "code",
   "execution_count": null,
   "metadata": {},
   "outputs": [],
   "source": []
  },
  {
   "cell_type": "markdown",
   "metadata": {},
   "source": [
    "### family_type 을 Married 와 Unmarried 로만 나누었을 때"
   ]
  },
  {
   "cell_type": "code",
   "execution_count": 202,
   "metadata": {},
   "outputs": [],
   "source": [
    "train2 = train\n",
    "train2['family_type'] = train2['family_type'].map(lambda x: 'Married' \n",
    "                                                if (x == 'Married' or x == 'Civil marriage')\n",
    "                                                else 'Not Married')\n",
    "train2.drop(['child_num'], axis = 1, inplace= True)"
   ]
  },
  {
   "cell_type": "code",
   "execution_count": 203,
   "metadata": {
    "scrolled": true
   },
   "outputs": [
    {
     "data": {
      "text/html": [
       "<div>\n",
       "<style scoped>\n",
       "    .dataframe tbody tr th:only-of-type {\n",
       "        vertical-align: middle;\n",
       "    }\n",
       "\n",
       "    .dataframe tbody tr th {\n",
       "        vertical-align: top;\n",
       "    }\n",
       "\n",
       "    .dataframe thead th {\n",
       "        text-align: right;\n",
       "    }\n",
       "</style>\n",
       "<table border=\"1\" class=\"dataframe\">\n",
       "  <thead>\n",
       "    <tr style=\"text-align: right;\">\n",
       "      <th></th>\n",
       "      <th>index</th>\n",
       "      <th>gender</th>\n",
       "      <th>car</th>\n",
       "      <th>reality</th>\n",
       "      <th>income_total</th>\n",
       "      <th>income_type</th>\n",
       "      <th>edu_type</th>\n",
       "      <th>family_type</th>\n",
       "      <th>house_type</th>\n",
       "      <th>DAYS_BIRTH</th>\n",
       "      <th>DAYS_EMPLOYED</th>\n",
       "      <th>work_phone</th>\n",
       "      <th>phone</th>\n",
       "      <th>email</th>\n",
       "      <th>occyp_type</th>\n",
       "      <th>family_size</th>\n",
       "      <th>begin_month</th>\n",
       "      <th>credit</th>\n",
       "    </tr>\n",
       "  </thead>\n",
       "  <tbody>\n",
       "    <tr>\n",
       "      <th>0</th>\n",
       "      <td>0</td>\n",
       "      <td>F</td>\n",
       "      <td>N</td>\n",
       "      <td>N</td>\n",
       "      <td>202500</td>\n",
       "      <td>Commercial associate</td>\n",
       "      <td>Higher education</td>\n",
       "      <td>Married</td>\n",
       "      <td>Municipal apartment</td>\n",
       "      <td>38</td>\n",
       "      <td>157</td>\n",
       "      <td>0</td>\n",
       "      <td>0</td>\n",
       "      <td>0</td>\n",
       "      <td>N</td>\n",
       "      <td>2</td>\n",
       "      <td>6</td>\n",
       "      <td>1</td>\n",
       "    </tr>\n",
       "    <tr>\n",
       "      <th>1</th>\n",
       "      <td>1</td>\n",
       "      <td>F</td>\n",
       "      <td>N</td>\n",
       "      <td>Y</td>\n",
       "      <td>247500</td>\n",
       "      <td>Commercial associate</td>\n",
       "      <td>Secondary / secondary special</td>\n",
       "      <td>Married</td>\n",
       "      <td>House / apartment</td>\n",
       "      <td>31</td>\n",
       "      <td>51</td>\n",
       "      <td>0</td>\n",
       "      <td>0</td>\n",
       "      <td>1</td>\n",
       "      <td>Laborers</td>\n",
       "      <td>3</td>\n",
       "      <td>5</td>\n",
       "      <td>1</td>\n",
       "    </tr>\n",
       "    <tr>\n",
       "      <th>2</th>\n",
       "      <td>2</td>\n",
       "      <td>M</td>\n",
       "      <td>Y</td>\n",
       "      <td>Y</td>\n",
       "      <td>450000</td>\n",
       "      <td>Working</td>\n",
       "      <td>Higher education</td>\n",
       "      <td>Married</td>\n",
       "      <td>House / apartment</td>\n",
       "      <td>52</td>\n",
       "      <td>147</td>\n",
       "      <td>0</td>\n",
       "      <td>1</td>\n",
       "      <td>0</td>\n",
       "      <td>Managers</td>\n",
       "      <td>2</td>\n",
       "      <td>22</td>\n",
       "      <td>2</td>\n",
       "    </tr>\n",
       "    <tr>\n",
       "      <th>3</th>\n",
       "      <td>3</td>\n",
       "      <td>F</td>\n",
       "      <td>N</td>\n",
       "      <td>Y</td>\n",
       "      <td>202500</td>\n",
       "      <td>Commercial associate</td>\n",
       "      <td>Secondary / secondary special</td>\n",
       "      <td>Married</td>\n",
       "      <td>House / apartment</td>\n",
       "      <td>41</td>\n",
       "      <td>69</td>\n",
       "      <td>0</td>\n",
       "      <td>1</td>\n",
       "      <td>0</td>\n",
       "      <td>Sales staff</td>\n",
       "      <td>2</td>\n",
       "      <td>37</td>\n",
       "      <td>0</td>\n",
       "    </tr>\n",
       "    <tr>\n",
       "      <th>4</th>\n",
       "      <td>4</td>\n",
       "      <td>F</td>\n",
       "      <td>Y</td>\n",
       "      <td>Y</td>\n",
       "      <td>157500</td>\n",
       "      <td>State servant</td>\n",
       "      <td>Higher education</td>\n",
       "      <td>Married</td>\n",
       "      <td>House / apartment</td>\n",
       "      <td>41</td>\n",
       "      <td>70</td>\n",
       "      <td>0</td>\n",
       "      <td>0</td>\n",
       "      <td>0</td>\n",
       "      <td>Managers</td>\n",
       "      <td>2</td>\n",
       "      <td>26</td>\n",
       "      <td>2</td>\n",
       "    </tr>\n",
       "    <tr>\n",
       "      <th>...</th>\n",
       "      <td>...</td>\n",
       "      <td>...</td>\n",
       "      <td>...</td>\n",
       "      <td>...</td>\n",
       "      <td>...</td>\n",
       "      <td>...</td>\n",
       "      <td>...</td>\n",
       "      <td>...</td>\n",
       "      <td>...</td>\n",
       "      <td>...</td>\n",
       "      <td>...</td>\n",
       "      <td>...</td>\n",
       "      <td>...</td>\n",
       "      <td>...</td>\n",
       "      <td>...</td>\n",
       "      <td>...</td>\n",
       "      <td>...</td>\n",
       "      <td>...</td>\n",
       "    </tr>\n",
       "    <tr>\n",
       "      <th>26446</th>\n",
       "      <td>26452</td>\n",
       "      <td>F</td>\n",
       "      <td>N</td>\n",
       "      <td>N</td>\n",
       "      <td>225000</td>\n",
       "      <td>State servant</td>\n",
       "      <td>Secondary / secondary special</td>\n",
       "      <td>Married</td>\n",
       "      <td>House / apartment</td>\n",
       "      <td>33</td>\n",
       "      <td>66</td>\n",
       "      <td>0</td>\n",
       "      <td>0</td>\n",
       "      <td>0</td>\n",
       "      <td>Core staff</td>\n",
       "      <td>4</td>\n",
       "      <td>2</td>\n",
       "      <td>1</td>\n",
       "    </tr>\n",
       "    <tr>\n",
       "      <th>26447</th>\n",
       "      <td>26453</td>\n",
       "      <td>F</td>\n",
       "      <td>N</td>\n",
       "      <td>Y</td>\n",
       "      <td>180000</td>\n",
       "      <td>Working</td>\n",
       "      <td>Higher education</td>\n",
       "      <td>Not Married</td>\n",
       "      <td>House / apartment</td>\n",
       "      <td>41</td>\n",
       "      <td>82</td>\n",
       "      <td>0</td>\n",
       "      <td>0</td>\n",
       "      <td>0</td>\n",
       "      <td>N</td>\n",
       "      <td>2</td>\n",
       "      <td>47</td>\n",
       "      <td>2</td>\n",
       "    </tr>\n",
       "    <tr>\n",
       "      <th>26448</th>\n",
       "      <td>26454</td>\n",
       "      <td>F</td>\n",
       "      <td>Y</td>\n",
       "      <td>N</td>\n",
       "      <td>292500</td>\n",
       "      <td>Working</td>\n",
       "      <td>Secondary / secondary special</td>\n",
       "      <td>Married</td>\n",
       "      <td>With parents</td>\n",
       "      <td>27</td>\n",
       "      <td>67</td>\n",
       "      <td>0</td>\n",
       "      <td>0</td>\n",
       "      <td>0</td>\n",
       "      <td>Core staff</td>\n",
       "      <td>2</td>\n",
       "      <td>25</td>\n",
       "      <td>2</td>\n",
       "    </tr>\n",
       "    <tr>\n",
       "      <th>26449</th>\n",
       "      <td>26455</td>\n",
       "      <td>M</td>\n",
       "      <td>N</td>\n",
       "      <td>Y</td>\n",
       "      <td>171000</td>\n",
       "      <td>Working</td>\n",
       "      <td>Incomplete higher</td>\n",
       "      <td>Not Married</td>\n",
       "      <td>House / apartment</td>\n",
       "      <td>27</td>\n",
       "      <td>3</td>\n",
       "      <td>0</td>\n",
       "      <td>0</td>\n",
       "      <td>0</td>\n",
       "      <td>Laborers</td>\n",
       "      <td>1</td>\n",
       "      <td>59</td>\n",
       "      <td>2</td>\n",
       "    </tr>\n",
       "    <tr>\n",
       "      <th>26450</th>\n",
       "      <td>26456</td>\n",
       "      <td>F</td>\n",
       "      <td>N</td>\n",
       "      <td>N</td>\n",
       "      <td>81000</td>\n",
       "      <td>Working</td>\n",
       "      <td>Secondary / secondary special</td>\n",
       "      <td>Married</td>\n",
       "      <td>House / apartment</td>\n",
       "      <td>53</td>\n",
       "      <td>33</td>\n",
       "      <td>0</td>\n",
       "      <td>0</td>\n",
       "      <td>0</td>\n",
       "      <td>Security staff</td>\n",
       "      <td>2</td>\n",
       "      <td>9</td>\n",
       "      <td>2</td>\n",
       "    </tr>\n",
       "  </tbody>\n",
       "</table>\n",
       "<p>26451 rows × 18 columns</p>\n",
       "</div>"
      ],
      "text/plain": [
       "       index gender car reality  income_total           income_type  \\\n",
       "0          0      F   N       N        202500  Commercial associate   \n",
       "1          1      F   N       Y        247500  Commercial associate   \n",
       "2          2      M   Y       Y        450000               Working   \n",
       "3          3      F   N       Y        202500  Commercial associate   \n",
       "4          4      F   Y       Y        157500         State servant   \n",
       "...      ...    ...  ..     ...           ...                   ...   \n",
       "26446  26452      F   N       N        225000         State servant   \n",
       "26447  26453      F   N       Y        180000               Working   \n",
       "26448  26454      F   Y       N        292500               Working   \n",
       "26449  26455      M   N       Y        171000               Working   \n",
       "26450  26456      F   N       N         81000               Working   \n",
       "\n",
       "                            edu_type  family_type           house_type  \\\n",
       "0                   Higher education      Married  Municipal apartment   \n",
       "1      Secondary / secondary special      Married    House / apartment   \n",
       "2                   Higher education      Married    House / apartment   \n",
       "3      Secondary / secondary special      Married    House / apartment   \n",
       "4                   Higher education      Married    House / apartment   \n",
       "...                              ...          ...                  ...   \n",
       "26446  Secondary / secondary special      Married    House / apartment   \n",
       "26447               Higher education  Not Married    House / apartment   \n",
       "26448  Secondary / secondary special      Married         With parents   \n",
       "26449              Incomplete higher  Not Married    House / apartment   \n",
       "26450  Secondary / secondary special      Married    House / apartment   \n",
       "\n",
       "       DAYS_BIRTH  DAYS_EMPLOYED work_phone phone email      occyp_type  \\\n",
       "0              38            157          0     0     0               N   \n",
       "1              31             51          0     0     1        Laborers   \n",
       "2              52            147          0     1     0        Managers   \n",
       "3              41             69          0     1     0     Sales staff   \n",
       "4              41             70          0     0     0        Managers   \n",
       "...           ...            ...        ...   ...   ...             ...   \n",
       "26446          33             66          0     0     0      Core staff   \n",
       "26447          41             82          0     0     0               N   \n",
       "26448          27             67          0     0     0      Core staff   \n",
       "26449          27              3          0     0     0        Laborers   \n",
       "26450          53             33          0     0     0  Security staff   \n",
       "\n",
       "       family_size  begin_month  credit  \n",
       "0                2            6       1  \n",
       "1                3            5       1  \n",
       "2                2           22       2  \n",
       "3                2           37       0  \n",
       "4                2           26       2  \n",
       "...            ...          ...     ...  \n",
       "26446            4            2       1  \n",
       "26447            2           47       2  \n",
       "26448            2           25       2  \n",
       "26449            1           59       2  \n",
       "26450            2            9       2  \n",
       "\n",
       "[26451 rows x 18 columns]"
      ]
     },
     "execution_count": 203,
     "metadata": {},
     "output_type": "execute_result"
    }
   ],
   "source": [
    "train2"
   ]
  },
  {
   "cell_type": "code",
   "execution_count": 211,
   "metadata": {},
   "outputs": [],
   "source": [
    "X = train2.drop('credit', axis=1)\n",
    "y = train2['credit']\n",
    "\n",
    "X_train, X_val, y_train, y_val = train_test_split(X, y, test_size=0.2, random_state=0)"
   ]
  },
  {
   "cell_type": "code",
   "execution_count": 212,
   "metadata": {},
   "outputs": [],
   "source": [
    "cat_cols = train.columns[train.dtypes == 'object'].to_list()\n",
    "\n",
    "train_pool = Pool(X_train, y_train, cat_features = cat_cols)\n",
    "eval_pool = Pool(X_val, y_val, cat_features = cat_cols)"
   ]
  },
  {
   "cell_type": "code",
   "execution_count": 213,
   "metadata": {},
   "outputs": [
    {
     "name": "stdout",
     "output_type": "stream",
     "text": [
      "Learning rate set to 0.114773\n",
      "0:\tlearn: 1.0350128\ttest: 1.0332529\tbest: 1.0332529 (0)\ttotal: 68ms\tremaining: 1m 7s\n",
      "100:\tlearn: 0.7903263\ttest: 0.7909372\tbest: 0.7909372 (100)\ttotal: 8.63s\tremaining: 1m 16s\n",
      "200:\tlearn: 0.7593554\ttest: 0.7815246\tbest: 0.7815183 (199)\ttotal: 20.8s\tremaining: 1m 22s\n",
      "300:\tlearn: 0.7332467\ttest: 0.7753274\tbest: 0.7753274 (300)\ttotal: 31.7s\tremaining: 1m 13s\n",
      "400:\tlearn: 0.7090980\ttest: 0.7700471\tbest: 0.7699385 (398)\ttotal: 42.1s\tremaining: 1m 2s\n",
      "500:\tlearn: 0.6872812\ttest: 0.7679687\tbest: 0.7679687 (500)\ttotal: 52s\tremaining: 51.8s\n",
      "600:\tlearn: 0.6667465\ttest: 0.7647859\tbest: 0.7647595 (594)\ttotal: 1m 1s\tremaining: 40.8s\n",
      "700:\tlearn: 0.6458270\ttest: 0.7624125\tbest: 0.7621896 (692)\ttotal: 1m 10s\tremaining: 30s\n",
      "800:\tlearn: 0.6275841\ttest: 0.7614161\tbest: 0.7612910 (797)\ttotal: 1m 19s\tremaining: 19.6s\n",
      "900:\tlearn: 0.6092547\ttest: 0.7603493\tbest: 0.7603430 (899)\ttotal: 1m 28s\tremaining: 9.74s\n",
      "999:\tlearn: 0.5939491\ttest: 0.7599864\tbest: 0.7597482 (970)\ttotal: 1m 38s\tremaining: 0us\n",
      "\n",
      "bestTest = 0.7597481662\n",
      "bestIteration = 970\n",
      "\n",
      "Shrink model to first 971 iterations.\n"
     ]
    },
    {
     "data": {
      "text/plain": [
       "<catboost.core.CatBoostClassifier at 0x152ee051100>"
      ]
     },
     "execution_count": 213,
     "metadata": {},
     "output_type": "execute_result"
    }
   ],
   "source": [
    "model = CatBoostClassifier() \n",
    "model.fit(train_pool, eval_set=eval_pool,early_stopping_rounds=100, verbose=100) "
   ]
  },
  {
   "cell_type": "code",
   "execution_count": 214,
   "metadata": {},
   "outputs": [],
   "source": [
    "pred_train = model.predict_proba(X_train)\n",
    "pred_val = model.predict_proba(X_val)"
   ]
  },
  {
   "cell_type": "code",
   "execution_count": 215,
   "metadata": {},
   "outputs": [
    {
     "name": "stdout",
     "output_type": "stream",
     "text": [
      "\tLog Loss: 0.759748\n"
     ]
    }
   ],
   "source": [
    "print(f'\\tLog Loss: {log_loss(y_val, pred_val):.6f}')"
   ]
  },
  {
   "cell_type": "code",
   "execution_count": 216,
   "metadata": {},
   "outputs": [
    {
     "name": "stdout",
     "output_type": "stream",
     "text": [
      "~~~ 0.7103\n"
     ]
    }
   ],
   "source": [
    "print('~~~ {:.4}'.format(accuracy_score(y_val, model.predict(X_val))))"
   ]
  },
  {
   "cell_type": "code",
   "execution_count": null,
   "metadata": {},
   "outputs": [],
   "source": []
  },
  {
   "cell_type": "markdown",
   "metadata": {},
   "source": [
    "### child_num만 제거했을 때"
   ]
  },
  {
   "cell_type": "code",
   "execution_count": 220,
   "metadata": {
    "scrolled": true
   },
   "outputs": [
    {
     "data": {
      "text/html": [
       "<div>\n",
       "<style scoped>\n",
       "    .dataframe tbody tr th:only-of-type {\n",
       "        vertical-align: middle;\n",
       "    }\n",
       "\n",
       "    .dataframe tbody tr th {\n",
       "        vertical-align: top;\n",
       "    }\n",
       "\n",
       "    .dataframe thead th {\n",
       "        text-align: right;\n",
       "    }\n",
       "</style>\n",
       "<table border=\"1\" class=\"dataframe\">\n",
       "  <thead>\n",
       "    <tr style=\"text-align: right;\">\n",
       "      <th></th>\n",
       "      <th>index</th>\n",
       "      <th>gender</th>\n",
       "      <th>car</th>\n",
       "      <th>reality</th>\n",
       "      <th>income_total</th>\n",
       "      <th>income_type</th>\n",
       "      <th>edu_type</th>\n",
       "      <th>family_type</th>\n",
       "      <th>house_type</th>\n",
       "      <th>DAYS_BIRTH</th>\n",
       "      <th>DAYS_EMPLOYED</th>\n",
       "      <th>work_phone</th>\n",
       "      <th>phone</th>\n",
       "      <th>email</th>\n",
       "      <th>occyp_type</th>\n",
       "      <th>family_size</th>\n",
       "      <th>begin_month</th>\n",
       "      <th>credit</th>\n",
       "    </tr>\n",
       "  </thead>\n",
       "  <tbody>\n",
       "    <tr>\n",
       "      <th>0</th>\n",
       "      <td>0</td>\n",
       "      <td>F</td>\n",
       "      <td>N</td>\n",
       "      <td>N</td>\n",
       "      <td>202500</td>\n",
       "      <td>Commercial associate</td>\n",
       "      <td>Higher education</td>\n",
       "      <td>Married</td>\n",
       "      <td>Municipal apartment</td>\n",
       "      <td>38</td>\n",
       "      <td>157</td>\n",
       "      <td>0</td>\n",
       "      <td>0</td>\n",
       "      <td>0</td>\n",
       "      <td>N</td>\n",
       "      <td>2</td>\n",
       "      <td>6</td>\n",
       "      <td>1</td>\n",
       "    </tr>\n",
       "    <tr>\n",
       "      <th>1</th>\n",
       "      <td>1</td>\n",
       "      <td>F</td>\n",
       "      <td>N</td>\n",
       "      <td>Y</td>\n",
       "      <td>247500</td>\n",
       "      <td>Commercial associate</td>\n",
       "      <td>Secondary / secondary special</td>\n",
       "      <td>Married</td>\n",
       "      <td>House / apartment</td>\n",
       "      <td>31</td>\n",
       "      <td>51</td>\n",
       "      <td>0</td>\n",
       "      <td>0</td>\n",
       "      <td>1</td>\n",
       "      <td>Laborers</td>\n",
       "      <td>3</td>\n",
       "      <td>5</td>\n",
       "      <td>1</td>\n",
       "    </tr>\n",
       "    <tr>\n",
       "      <th>2</th>\n",
       "      <td>2</td>\n",
       "      <td>M</td>\n",
       "      <td>Y</td>\n",
       "      <td>Y</td>\n",
       "      <td>450000</td>\n",
       "      <td>Working</td>\n",
       "      <td>Higher education</td>\n",
       "      <td>Married</td>\n",
       "      <td>House / apartment</td>\n",
       "      <td>52</td>\n",
       "      <td>147</td>\n",
       "      <td>0</td>\n",
       "      <td>1</td>\n",
       "      <td>0</td>\n",
       "      <td>Managers</td>\n",
       "      <td>2</td>\n",
       "      <td>22</td>\n",
       "      <td>2</td>\n",
       "    </tr>\n",
       "    <tr>\n",
       "      <th>3</th>\n",
       "      <td>3</td>\n",
       "      <td>F</td>\n",
       "      <td>N</td>\n",
       "      <td>Y</td>\n",
       "      <td>202500</td>\n",
       "      <td>Commercial associate</td>\n",
       "      <td>Secondary / secondary special</td>\n",
       "      <td>Married</td>\n",
       "      <td>House / apartment</td>\n",
       "      <td>41</td>\n",
       "      <td>69</td>\n",
       "      <td>0</td>\n",
       "      <td>1</td>\n",
       "      <td>0</td>\n",
       "      <td>Sales staff</td>\n",
       "      <td>2</td>\n",
       "      <td>37</td>\n",
       "      <td>0</td>\n",
       "    </tr>\n",
       "    <tr>\n",
       "      <th>4</th>\n",
       "      <td>4</td>\n",
       "      <td>F</td>\n",
       "      <td>Y</td>\n",
       "      <td>Y</td>\n",
       "      <td>157500</td>\n",
       "      <td>State servant</td>\n",
       "      <td>Higher education</td>\n",
       "      <td>Married</td>\n",
       "      <td>House / apartment</td>\n",
       "      <td>41</td>\n",
       "      <td>70</td>\n",
       "      <td>0</td>\n",
       "      <td>0</td>\n",
       "      <td>0</td>\n",
       "      <td>Managers</td>\n",
       "      <td>2</td>\n",
       "      <td>26</td>\n",
       "      <td>2</td>\n",
       "    </tr>\n",
       "    <tr>\n",
       "      <th>...</th>\n",
       "      <td>...</td>\n",
       "      <td>...</td>\n",
       "      <td>...</td>\n",
       "      <td>...</td>\n",
       "      <td>...</td>\n",
       "      <td>...</td>\n",
       "      <td>...</td>\n",
       "      <td>...</td>\n",
       "      <td>...</td>\n",
       "      <td>...</td>\n",
       "      <td>...</td>\n",
       "      <td>...</td>\n",
       "      <td>...</td>\n",
       "      <td>...</td>\n",
       "      <td>...</td>\n",
       "      <td>...</td>\n",
       "      <td>...</td>\n",
       "      <td>...</td>\n",
       "    </tr>\n",
       "    <tr>\n",
       "      <th>26446</th>\n",
       "      <td>26452</td>\n",
       "      <td>F</td>\n",
       "      <td>N</td>\n",
       "      <td>N</td>\n",
       "      <td>225000</td>\n",
       "      <td>State servant</td>\n",
       "      <td>Secondary / secondary special</td>\n",
       "      <td>Married</td>\n",
       "      <td>House / apartment</td>\n",
       "      <td>33</td>\n",
       "      <td>66</td>\n",
       "      <td>0</td>\n",
       "      <td>0</td>\n",
       "      <td>0</td>\n",
       "      <td>Core staff</td>\n",
       "      <td>4</td>\n",
       "      <td>2</td>\n",
       "      <td>1</td>\n",
       "    </tr>\n",
       "    <tr>\n",
       "      <th>26447</th>\n",
       "      <td>26453</td>\n",
       "      <td>F</td>\n",
       "      <td>N</td>\n",
       "      <td>Y</td>\n",
       "      <td>180000</td>\n",
       "      <td>Working</td>\n",
       "      <td>Higher education</td>\n",
       "      <td>Not Married</td>\n",
       "      <td>House / apartment</td>\n",
       "      <td>41</td>\n",
       "      <td>82</td>\n",
       "      <td>0</td>\n",
       "      <td>0</td>\n",
       "      <td>0</td>\n",
       "      <td>N</td>\n",
       "      <td>2</td>\n",
       "      <td>47</td>\n",
       "      <td>2</td>\n",
       "    </tr>\n",
       "    <tr>\n",
       "      <th>26448</th>\n",
       "      <td>26454</td>\n",
       "      <td>F</td>\n",
       "      <td>Y</td>\n",
       "      <td>N</td>\n",
       "      <td>292500</td>\n",
       "      <td>Working</td>\n",
       "      <td>Secondary / secondary special</td>\n",
       "      <td>Married</td>\n",
       "      <td>With parents</td>\n",
       "      <td>27</td>\n",
       "      <td>67</td>\n",
       "      <td>0</td>\n",
       "      <td>0</td>\n",
       "      <td>0</td>\n",
       "      <td>Core staff</td>\n",
       "      <td>2</td>\n",
       "      <td>25</td>\n",
       "      <td>2</td>\n",
       "    </tr>\n",
       "    <tr>\n",
       "      <th>26449</th>\n",
       "      <td>26455</td>\n",
       "      <td>M</td>\n",
       "      <td>N</td>\n",
       "      <td>Y</td>\n",
       "      <td>171000</td>\n",
       "      <td>Working</td>\n",
       "      <td>Incomplete higher</td>\n",
       "      <td>Not Married</td>\n",
       "      <td>House / apartment</td>\n",
       "      <td>27</td>\n",
       "      <td>3</td>\n",
       "      <td>0</td>\n",
       "      <td>0</td>\n",
       "      <td>0</td>\n",
       "      <td>Laborers</td>\n",
       "      <td>1</td>\n",
       "      <td>59</td>\n",
       "      <td>2</td>\n",
       "    </tr>\n",
       "    <tr>\n",
       "      <th>26450</th>\n",
       "      <td>26456</td>\n",
       "      <td>F</td>\n",
       "      <td>N</td>\n",
       "      <td>N</td>\n",
       "      <td>81000</td>\n",
       "      <td>Working</td>\n",
       "      <td>Secondary / secondary special</td>\n",
       "      <td>Married</td>\n",
       "      <td>House / apartment</td>\n",
       "      <td>53</td>\n",
       "      <td>33</td>\n",
       "      <td>0</td>\n",
       "      <td>0</td>\n",
       "      <td>0</td>\n",
       "      <td>Security staff</td>\n",
       "      <td>2</td>\n",
       "      <td>9</td>\n",
       "      <td>2</td>\n",
       "    </tr>\n",
       "  </tbody>\n",
       "</table>\n",
       "<p>26451 rows × 18 columns</p>\n",
       "</div>"
      ],
      "text/plain": [
       "       index gender car reality  income_total           income_type  \\\n",
       "0          0      F   N       N        202500  Commercial associate   \n",
       "1          1      F   N       Y        247500  Commercial associate   \n",
       "2          2      M   Y       Y        450000               Working   \n",
       "3          3      F   N       Y        202500  Commercial associate   \n",
       "4          4      F   Y       Y        157500         State servant   \n",
       "...      ...    ...  ..     ...           ...                   ...   \n",
       "26446  26452      F   N       N        225000         State servant   \n",
       "26447  26453      F   N       Y        180000               Working   \n",
       "26448  26454      F   Y       N        292500               Working   \n",
       "26449  26455      M   N       Y        171000               Working   \n",
       "26450  26456      F   N       N         81000               Working   \n",
       "\n",
       "                            edu_type  family_type           house_type  \\\n",
       "0                   Higher education      Married  Municipal apartment   \n",
       "1      Secondary / secondary special      Married    House / apartment   \n",
       "2                   Higher education      Married    House / apartment   \n",
       "3      Secondary / secondary special      Married    House / apartment   \n",
       "4                   Higher education      Married    House / apartment   \n",
       "...                              ...          ...                  ...   \n",
       "26446  Secondary / secondary special      Married    House / apartment   \n",
       "26447               Higher education  Not Married    House / apartment   \n",
       "26448  Secondary / secondary special      Married         With parents   \n",
       "26449              Incomplete higher  Not Married    House / apartment   \n",
       "26450  Secondary / secondary special      Married    House / apartment   \n",
       "\n",
       "       DAYS_BIRTH  DAYS_EMPLOYED work_phone phone email      occyp_type  \\\n",
       "0              38            157          0     0     0               N   \n",
       "1              31             51          0     0     1        Laborers   \n",
       "2              52            147          0     1     0        Managers   \n",
       "3              41             69          0     1     0     Sales staff   \n",
       "4              41             70          0     0     0        Managers   \n",
       "...           ...            ...        ...   ...   ...             ...   \n",
       "26446          33             66          0     0     0      Core staff   \n",
       "26447          41             82          0     0     0               N   \n",
       "26448          27             67          0     0     0      Core staff   \n",
       "26449          27              3          0     0     0        Laborers   \n",
       "26450          53             33          0     0     0  Security staff   \n",
       "\n",
       "       family_size  begin_month  credit  \n",
       "0                2            6       1  \n",
       "1                3            5       1  \n",
       "2                2           22       2  \n",
       "3                2           37       0  \n",
       "4                2           26       2  \n",
       "...            ...          ...     ...  \n",
       "26446            4            2       1  \n",
       "26447            2           47       2  \n",
       "26448            2           25       2  \n",
       "26449            1           59       2  \n",
       "26450            2            9       2  \n",
       "\n",
       "[26451 rows x 18 columns]"
      ]
     },
     "execution_count": 220,
     "metadata": {},
     "output_type": "execute_result"
    }
   ],
   "source": [
    "train3 = train\n",
    "train3"
   ]
  },
  {
   "cell_type": "code",
   "execution_count": 221,
   "metadata": {},
   "outputs": [],
   "source": [
    "X = train3.drop('credit', axis=1)\n",
    "y = train3['credit']\n",
    "\n",
    "X_train, X_val, y_train, y_val = train_test_split(X, y, test_size=0.2, random_state=0)"
   ]
  },
  {
   "cell_type": "code",
   "execution_count": 223,
   "metadata": {},
   "outputs": [],
   "source": [
    "cat_cols = train.columns[train.dtypes == 'object'].to_list()\n",
    "\n",
    "train_pool = Pool(X_train, y_train, cat_features = cat_cols)\n",
    "eval_pool = Pool(X_val, y_val, cat_features = cat_cols)"
   ]
  },
  {
   "cell_type": "code",
   "execution_count": 224,
   "metadata": {},
   "outputs": [
    {
     "name": "stdout",
     "output_type": "stream",
     "text": [
      "Learning rate set to 0.114773\n",
      "0:\tlearn: 1.0350128\ttest: 1.0332529\tbest: 1.0332529 (0)\ttotal: 70.9ms\tremaining: 1m 10s\n",
      "100:\tlearn: 0.7903263\ttest: 0.7909372\tbest: 0.7909372 (100)\ttotal: 7.23s\tremaining: 1m 4s\n",
      "200:\tlearn: 0.7593554\ttest: 0.7815246\tbest: 0.7815183 (199)\ttotal: 16.5s\tremaining: 1m 5s\n",
      "300:\tlearn: 0.7332467\ttest: 0.7753274\tbest: 0.7753274 (300)\ttotal: 25.6s\tremaining: 59.4s\n",
      "400:\tlearn: 0.7090980\ttest: 0.7700471\tbest: 0.7699385 (398)\ttotal: 37.6s\tremaining: 56.2s\n",
      "500:\tlearn: 0.6872812\ttest: 0.7679687\tbest: 0.7679687 (500)\ttotal: 50.1s\tremaining: 49.9s\n",
      "600:\tlearn: 0.6667465\ttest: 0.7647859\tbest: 0.7647595 (594)\ttotal: 1m\tremaining: 40.5s\n",
      "700:\tlearn: 0.6458270\ttest: 0.7624125\tbest: 0.7621896 (692)\ttotal: 1m 12s\tremaining: 31s\n",
      "800:\tlearn: 0.6275841\ttest: 0.7614161\tbest: 0.7612910 (797)\ttotal: 1m 27s\tremaining: 21.8s\n",
      "900:\tlearn: 0.6092547\ttest: 0.7603493\tbest: 0.7603430 (899)\ttotal: 1m 45s\tremaining: 11.6s\n",
      "999:\tlearn: 0.5939491\ttest: 0.7599864\tbest: 0.7597482 (970)\ttotal: 1m 58s\tremaining: 0us\n",
      "\n",
      "bestTest = 0.7597481662\n",
      "bestIteration = 970\n",
      "\n",
      "Shrink model to first 971 iterations.\n"
     ]
    },
    {
     "data": {
      "text/plain": [
       "<catboost.core.CatBoostClassifier at 0x152eda7edf0>"
      ]
     },
     "execution_count": 224,
     "metadata": {},
     "output_type": "execute_result"
    }
   ],
   "source": [
    "model = CatBoostClassifier() \n",
    "model.fit(train_pool, eval_set=eval_pool,early_stopping_rounds=100, verbose=100) "
   ]
  },
  {
   "cell_type": "code",
   "execution_count": 225,
   "metadata": {},
   "outputs": [],
   "source": [
    "pred_train = model.predict_proba(X_train)\n",
    "pred_val = model.predict_proba(X_val)"
   ]
  },
  {
   "cell_type": "code",
   "execution_count": 226,
   "metadata": {},
   "outputs": [
    {
     "name": "stdout",
     "output_type": "stream",
     "text": [
      "\tLog Loss: 0.759748\n"
     ]
    }
   ],
   "source": [
    "from sklearn.metrics import log_loss\n",
    "print(f'\\tLog Loss: {log_loss(y_val, pred_val):.6f}')"
   ]
  },
  {
   "cell_type": "code",
   "execution_count": 227,
   "metadata": {},
   "outputs": [
    {
     "name": "stdout",
     "output_type": "stream",
     "text": [
      "~~~ 0.7103\n"
     ]
    }
   ],
   "source": [
    "from sklearn.metrics import accuracy_score\n",
    "print('~~~ {:.4}'.format(accuracy_score(y_val, model.predict(X_val))))"
   ]
  },
  {
   "cell_type": "code",
   "execution_count": null,
   "metadata": {},
   "outputs": [],
   "source": []
  }
 ],
 "metadata": {
  "kernelspec": {
   "display_name": "Python 3",
   "language": "python",
   "name": "python3"
  },
  "language_info": {
   "codemirror_mode": {
    "name": "ipython",
    "version": 3
   },
   "file_extension": ".py",
   "mimetype": "text/x-python",
   "name": "python",
   "nbconvert_exporter": "python",
   "pygments_lexer": "ipython3",
   "version": "3.8.3"
  }
 },
 "nbformat": 4,
 "nbformat_minor": 4
}
